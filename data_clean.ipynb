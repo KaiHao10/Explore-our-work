{
 "cells": [
  {
   "cell_type": "code",
   "execution_count": 2,
   "id": "4ba34339",
   "metadata": {},
   "outputs": [],
   "source": [
    "import pandas as pd\n",
    "# from fuzzywuzzy import process\n",
    "from difflib import SequenceMatcher"
   ]
  },
  {
   "cell_type": "code",
   "execution_count": 6,
   "id": "dd62c9bb",
   "metadata": {},
   "outputs": [],
   "source": [
    "file_path = \"train_test_data.xlsx\"\n",
    "\n",
    "sheet3 = pd.read_excel(file_path, sheet_name=\"Sheet3\")\n",
    "sheet4 = pd.read_excel(file_path, sheet_name=\"Sheet4\")\n",
    "\n",
    "universities_accept_DET = set(sheet3[\"universities_accept_DET\"].dropna())\n",
    "\n",
    "sheet4[\"accept_DET?\"] = sheet4[\"University Name\"].apply(lambda x: \"1\" if x in universities_accept_DET else \"0\")\n",
    "\n",
    "with pd.ExcelWriter(file_path, engine=\"openpyxl\", mode=\"a\", if_sheet_exists=\"replace\") as writer:\n",
    "    sheet4.to_excel(writer, sheet_name=\"sheet4\", index=False)"
   ]
  },
  {
   "cell_type": "code",
   "execution_count": null,
   "id": "5b51ec1b",
   "metadata": {},
   "outputs": [
    {
     "name": "stdout",
     "output_type": "stream",
     "text": [
      "111111000111010110011110100010110010111001110011101101010100110101101101011111111110010011110001010000000110000111110011101010111110001110111110000000111110000010100110111110011101010110011101001110111101010000000101100000001000100110100101001111111110000001010001101000111110110001110011111111001011101101100010000111111001011001011001000110101000011001000110101100001111011110101110101000000101010001010100111111100100111000001001011110100100100100110100101001011100110001001101000000111011000000010100011001100000110000011010111010000001001001101111111010010100111011101100110000000010000100110101010000010101001001101010000000100110001010101101011000000001100000000000111100011010010101000100010101011010111101000000001100110100100010001100001110101110001101010001111101000011100001110010001100110101000000110011000100001111001000001011111111011111001001011101100101010100000000000001111111111010000010010000011000010010000000000000111111111100101110110110000000101100011000101110000000000001001111000001000100011101001101101101011000111001000110110001100110011110001100100011000011101001011110011001011010100001000000000000000000010001100000000000000000000001101111111010011111011100011101111001010001000000000101000101100100000011011100000001100011001011111000100000001000100000110101000001010100000000101000000000000000100000000000000000000101000000100000001110011111110101100101100001011100110000110001101001000001001000000000000000010001000000100000000000100000000000100000011110010000011101001"
     ]
    },
    {
     "ename": "PermissionError",
     "evalue": "[Errno 13] Permission denied: 'train_test_data.xlsx'",
     "output_type": "error",
     "traceback": [
      "\u001b[1;31m---------------------------------------------------------------------------\u001b[0m",
      "\u001b[1;31mPermissionError\u001b[0m                           Traceback (most recent call last)",
      "Cell \u001b[1;32mIn[17], line 27\u001b[0m\n\u001b[0;32m     23\u001b[0m     \u001b[38;5;28;01mreturn\u001b[39;00m \u001b[38;5;124m\"\u001b[39m\u001b[38;5;124m0\u001b[39m\u001b[38;5;124m\"\u001b[39m\n\u001b[0;32m     25\u001b[0m sheet4[\u001b[38;5;124m\"\u001b[39m\u001b[38;5;124maccept_DET?\u001b[39m\u001b[38;5;124m\"\u001b[39m] \u001b[38;5;241m=\u001b[39m sheet4[\u001b[38;5;124m\"\u001b[39m\u001b[38;5;124mUniversity Name\u001b[39m\u001b[38;5;124m\"\u001b[39m]\u001b[38;5;241m.\u001b[39mapply(\u001b[38;5;28;01mlambda\u001b[39;00m x: fuzzy_match(x, universities_accept_DET))\n\u001b[1;32m---> 27\u001b[0m \u001b[38;5;28;01mwith\u001b[39;00m pd\u001b[38;5;241m.\u001b[39mExcelWriter(file_path, engine\u001b[38;5;241m=\u001b[39m\u001b[38;5;124m\"\u001b[39m\u001b[38;5;124mopenpyxl\u001b[39m\u001b[38;5;124m\"\u001b[39m, mode\u001b[38;5;241m=\u001b[39m\u001b[38;5;124m\"\u001b[39m\u001b[38;5;124ma\u001b[39m\u001b[38;5;124m\"\u001b[39m, if_sheet_exists\u001b[38;5;241m=\u001b[39m\u001b[38;5;124m\"\u001b[39m\u001b[38;5;124mreplace\u001b[39m\u001b[38;5;124m\"\u001b[39m) \u001b[38;5;28;01mas\u001b[39;00m writer:\n\u001b[0;32m     28\u001b[0m     sheet4\u001b[38;5;241m.\u001b[39mto_excel(writer, sheet_name\u001b[38;5;241m=\u001b[39m\u001b[38;5;124m\"\u001b[39m\u001b[38;5;124msheet4\u001b[39m\u001b[38;5;124m\"\u001b[39m, index\u001b[38;5;241m=\u001b[39m\u001b[38;5;28;01mFalse\u001b[39;00m)\n",
      "File \u001b[1;32md:\\Apps\\Anaconda\\conda\\Lib\\site-packages\\pandas\\io\\excel\\_openpyxl.py:61\u001b[0m, in \u001b[0;36mOpenpyxlWriter.__init__\u001b[1;34m(self, path, engine, date_format, datetime_format, mode, storage_options, if_sheet_exists, engine_kwargs, **kwargs)\u001b[0m\n\u001b[0;32m     57\u001b[0m \u001b[38;5;28;01mfrom\u001b[39;00m \u001b[38;5;21;01mopenpyxl\u001b[39;00m\u001b[38;5;21;01m.\u001b[39;00m\u001b[38;5;21;01mworkbook\u001b[39;00m \u001b[38;5;28;01mimport\u001b[39;00m Workbook\n\u001b[0;32m     59\u001b[0m engine_kwargs \u001b[38;5;241m=\u001b[39m combine_kwargs(engine_kwargs, kwargs)\n\u001b[1;32m---> 61\u001b[0m \u001b[38;5;28msuper\u001b[39m()\u001b[38;5;241m.\u001b[39m\u001b[38;5;21m__init__\u001b[39m(\n\u001b[0;32m     62\u001b[0m     path,\n\u001b[0;32m     63\u001b[0m     mode\u001b[38;5;241m=\u001b[39mmode,\n\u001b[0;32m     64\u001b[0m     storage_options\u001b[38;5;241m=\u001b[39mstorage_options,\n\u001b[0;32m     65\u001b[0m     if_sheet_exists\u001b[38;5;241m=\u001b[39mif_sheet_exists,\n\u001b[0;32m     66\u001b[0m     engine_kwargs\u001b[38;5;241m=\u001b[39mengine_kwargs,\n\u001b[0;32m     67\u001b[0m )\n\u001b[0;32m     69\u001b[0m \u001b[38;5;66;03m# ExcelWriter replaced \"a\" by \"r+\" to allow us to first read the excel file from\u001b[39;00m\n\u001b[0;32m     70\u001b[0m \u001b[38;5;66;03m# the file and later write to it\u001b[39;00m\n\u001b[0;32m     71\u001b[0m \u001b[38;5;28;01mif\u001b[39;00m \u001b[38;5;124m\"\u001b[39m\u001b[38;5;124mr+\u001b[39m\u001b[38;5;124m\"\u001b[39m \u001b[38;5;129;01min\u001b[39;00m \u001b[38;5;28mself\u001b[39m\u001b[38;5;241m.\u001b[39m_mode:  \u001b[38;5;66;03m# Load from existing workbook\u001b[39;00m\n",
      "File \u001b[1;32md:\\Apps\\Anaconda\\conda\\Lib\\site-packages\\pandas\\io\\excel\\_base.py:1246\u001b[0m, in \u001b[0;36mExcelWriter.__init__\u001b[1;34m(self, path, engine, date_format, datetime_format, mode, storage_options, if_sheet_exists, engine_kwargs)\u001b[0m\n\u001b[0;32m   1242\u001b[0m \u001b[38;5;28mself\u001b[39m\u001b[38;5;241m.\u001b[39m_handles \u001b[38;5;241m=\u001b[39m IOHandles(\n\u001b[0;32m   1243\u001b[0m     cast(IO[\u001b[38;5;28mbytes\u001b[39m], path), compression\u001b[38;5;241m=\u001b[39m{\u001b[38;5;124m\"\u001b[39m\u001b[38;5;124mcompression\u001b[39m\u001b[38;5;124m\"\u001b[39m: \u001b[38;5;28;01mNone\u001b[39;00m}\n\u001b[0;32m   1244\u001b[0m )\n\u001b[0;32m   1245\u001b[0m \u001b[38;5;28;01mif\u001b[39;00m \u001b[38;5;129;01mnot\u001b[39;00m \u001b[38;5;28misinstance\u001b[39m(path, ExcelWriter):\n\u001b[1;32m-> 1246\u001b[0m     \u001b[38;5;28mself\u001b[39m\u001b[38;5;241m.\u001b[39m_handles \u001b[38;5;241m=\u001b[39m get_handle(\n\u001b[0;32m   1247\u001b[0m         path, mode, storage_options\u001b[38;5;241m=\u001b[39mstorage_options, is_text\u001b[38;5;241m=\u001b[39m\u001b[38;5;28;01mFalse\u001b[39;00m\n\u001b[0;32m   1248\u001b[0m     )\n\u001b[0;32m   1249\u001b[0m \u001b[38;5;28mself\u001b[39m\u001b[38;5;241m.\u001b[39m_cur_sheet \u001b[38;5;241m=\u001b[39m \u001b[38;5;28;01mNone\u001b[39;00m\n\u001b[0;32m   1251\u001b[0m \u001b[38;5;28;01mif\u001b[39;00m date_format \u001b[38;5;129;01mis\u001b[39;00m \u001b[38;5;28;01mNone\u001b[39;00m:\n",
      "File \u001b[1;32md:\\Apps\\Anaconda\\conda\\Lib\\site-packages\\pandas\\io\\common.py:882\u001b[0m, in \u001b[0;36mget_handle\u001b[1;34m(path_or_buf, mode, encoding, compression, memory_map, is_text, errors, storage_options)\u001b[0m\n\u001b[0;32m    873\u001b[0m         handle \u001b[38;5;241m=\u001b[39m \u001b[38;5;28mopen\u001b[39m(\n\u001b[0;32m    874\u001b[0m             handle,\n\u001b[0;32m    875\u001b[0m             ioargs\u001b[38;5;241m.\u001b[39mmode,\n\u001b[1;32m   (...)\u001b[0m\n\u001b[0;32m    878\u001b[0m             newline\u001b[38;5;241m=\u001b[39m\u001b[38;5;124m\"\u001b[39m\u001b[38;5;124m\"\u001b[39m,\n\u001b[0;32m    879\u001b[0m         )\n\u001b[0;32m    880\u001b[0m     \u001b[38;5;28;01melse\u001b[39;00m:\n\u001b[0;32m    881\u001b[0m         \u001b[38;5;66;03m# Binary mode\u001b[39;00m\n\u001b[1;32m--> 882\u001b[0m         handle \u001b[38;5;241m=\u001b[39m \u001b[38;5;28mopen\u001b[39m(handle, ioargs\u001b[38;5;241m.\u001b[39mmode)\n\u001b[0;32m    883\u001b[0m     handles\u001b[38;5;241m.\u001b[39mappend(handle)\n\u001b[0;32m    885\u001b[0m \u001b[38;5;66;03m# Convert BytesIO or file objects passed with an encoding\u001b[39;00m\n",
      "\u001b[1;31mPermissionError\u001b[0m: [Errno 13] Permission denied: 'train_test_data.xlsx'"
     ]
    }
   ],
   "source": [
    "# 用模糊匹配将sheet3中接受DET的大学列表与sheet4中的大学名称匹配\n",
    "file_path = \"train_test_data.xlsx\"\n",
    "\n",
    "sheet3 = pd.read_excel(file_path, sheet_name=\"Sheet3\")\n",
    "sheet4 = pd.read_excel(file_path, sheet_name=\"Sheet4\")\n",
    "\n",
    "sheet3[\"universities_accept_DET\"] = sheet3[\"universities_accept_DET\"].str.lower().str.strip()\n",
    "sheet4[\"University Name\"] = sheet4[\"University Name\"].str.lower().str.strip()\n",
    "\n",
    "# universities_accept_DET = sheet3[\"universities_accept_DET\"].dropna().tolist\n",
    "universities_accept_DET = set(sheet3[\"universities_accept_DET\"].dropna())\n",
    "\n",
    "def calculate_similarity(a, b):\n",
    "    return float(SequenceMatcher(None, a, b).ratio())\n",
    "\n",
    "def fuzzy_match(name, universities_accept_DET, threshold=0.85):\n",
    "    if pd.isna(name):\n",
    "        return \"0\"\n",
    "    for university in universities_accept_DET:\n",
    "        if calculate_similarity(name, university) >= threshold:\n",
    "            print('1', end='')\n",
    "            return \"1\"\n",
    "    print('0', end='')\n",
    "    return \"0\"\n",
    "\n",
    "sheet4[\"accept_DET?\"] = sheet4[\"University Name\"].apply(lambda x: fuzzy_match(x, universities_accept_DET))\n",
    "\n",
    "with pd.ExcelWriter(file_path, engine=\"openpyxl\", mode=\"a\", if_sheet_exists=\"replace\") as writer:\n",
    "    sheet4.to_excel(writer, sheet_name=\"sheet4\", index=False)"
   ]
  },
  {
   "cell_type": "code",
   "execution_count": 18,
   "id": "264b2310",
   "metadata": {},
   "outputs": [],
   "source": [
    "with pd.ExcelWriter(file_path, engine=\"openpyxl\", mode=\"a\", if_sheet_exists=\"replace\") as writer:\n",
    "    sheet4.to_excel(writer, sheet_name=\"sheet4\", index=False)"
   ]
  },
  {
   "cell_type": "code",
   "execution_count": 10,
   "id": "08753cdb",
   "metadata": {},
   "outputs": [
    {
     "name": "stdout",
     "output_type": "stream",
     "text": [
      "{'US': 1, 'UK': 2, 'CH': 3, 'SG': 4, 'AU': 5, 'CN': 6, 'HK': 7, 'FR': 8, 'CA': 9, 'DE': 10, 'KR': 11, 'JP': 12, 'NL': 13, 'MY': 14, 'BE': 15, 'NZ': 16, 'TW': 17, 'AR': 18, 'SE': 19, 'IE': 20, 'BR': 21, 'CL': 22, 'RU': 23, 'MX': 24, 'DK': 25, 'SA': 26, 'IT': 27, 'FI': 28, 'IN': 29, 'NO': 30, 'QA': 31, 'AT': 32, 'KZ': 33, 'ES': 34, 'ZA': 35, 'CO': 36, 'AE': 37, 'ID': 38, 'IL': 39, 'TH': 40, 'MO': 41, 'CZ': 42, 'LB': 43, 'PL': 44, 'PT': 45, 'TR': 46, 'PK': 47, 'GR': 48, 'PH': 49, 'IR': 50, 'EG': 51, 'LU': 52, 'EE': 53, 'PE': 54, 'OM': 55, 'JO': 56, 'BN': 57, 'BY': 58, 'CY': 59, 'LT': 60, 'VN': 61, 'CR': 62, 'BH': 63, 'UZ': 64, 'IS': 65, 'BD': 66, 'HU': 67, 'SI': 68, 'KW': 69, 'NCY': 70, 'HR': 71, 'SK': 72, 'BG': 73, 'UY': 74, 'VE': 75, 'CU': 76, 'UA': 77, 'LV': 78, 'RS': 79, 'MT': 80, 'ET': 81, 'TN': 82, 'RO': 83, 'GE': 84, 'EC': 85, 'IQ': 86, 'PS': 87, 'KG': 88, 'GH': 89, 'UG': 90, 'KE': 91, 'AM': 92, 'AZ': 93, 'LK': 94, 'PR': 95, 'PY': 96, 'PA': 97, 'MA': 98, 'NG': 99, 'SD': 100, 'BA': 101, 'SY': 102, 'DO': 103, 'GT': 104, 'BO': 105, 'HN': 106}\n",
      "{'M': 1, 'L': 2, 'XL': 3, 'S': 4}\n"
     ]
    }
   ],
   "source": [
    "# 将location和size映射为数字\n",
    "file_path = \"train_test_data.xlsx\"\n",
    "\n",
    "sheet4 = pd.read_excel(file_path, sheet_name=\"Sheet4\")\n",
    "\n",
    "Locations = sheet4[\"Location\"]\n",
    "Sizes = sheet4[\"Size\"]\n",
    "\n",
    "location_dict = {}\n",
    "size_dict = {}\n",
    "\n",
    "location_index = 1\n",
    "size_index = 1\n",
    "\n",
    "for location in Locations:\n",
    "    if location in location_dict:\n",
    "        continue\n",
    "    else:\n",
    "        location_dict[location] = location_index\n",
    "        location_index += 1\n",
    "\n",
    "for size in Sizes:\n",
    "    if size in size_dict:\n",
    "        continue\n",
    "    else:\n",
    "        size_dict[size] = size_index\n",
    "        size_index += 1\n",
    "\n",
    "print(location_dict)\n",
    "print(size_dict)\n",
    "\n",
    "sheet4[\"Location_num\"] = Locations.apply(lambda x: location_dict[x])\n",
    "sheet4[\"Size_num\"] = Sizes.apply(lambda x: size_dict[x])\n",
    "\n",
    "with pd.ExcelWriter(file_path, engine=\"openpyxl\", mode=\"a\", if_sheet_exists=\"replace\") as writer:\n",
    "    sheet4.to_excel(writer, sheet_name=\"sheet4\", index=False)"
   ]
  }
 ],
 "metadata": {
  "kernelspec": {
   "display_name": "base",
   "language": "python",
   "name": "python3"
  },
  "language_info": {
   "codemirror_mode": {
    "name": "ipython",
    "version": 3
   },
   "file_extension": ".py",
   "mimetype": "text/x-python",
   "name": "python",
   "nbconvert_exporter": "python",
   "pygments_lexer": "ipython3",
   "version": "3.12.7"
  }
 },
 "nbformat": 4,
 "nbformat_minor": 5
}
